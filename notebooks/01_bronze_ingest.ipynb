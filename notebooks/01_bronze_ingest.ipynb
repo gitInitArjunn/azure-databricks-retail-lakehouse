{
 "cells": [
  {
   "cell_type": "code",
   "execution_count": 0,
   "metadata": {
    "application/vnd.databricks.v1+cell": {
     "cellMetadata": {
      "byteLimit": 2048000,
      "rowLimit": 10000
     },
     "inputWidgets": {},
     "nuid": "ece3989d-c6ae-455e-af03-c60a09b8078b",
     "showTitle": false,
     "tableResultSettingsMap": {},
     "title": ""
    }
   },
   "outputs": [],
   "source": [
    "%load_ext autoreload\n",
    "%autoreload 2\n",
    "# Enables autoreload; learn more at https://docs.databricks.com/en/files/workspace-modules.html#autoreload-for-python-modules\n",
    "# To disable autoreload; run %autoreload 0"
   ]
  },
  {
   "cell_type": "code",
   "execution_count": 0,
   "metadata": {
    "application/vnd.databricks.v1+cell": {
     "cellMetadata": {
      "byteLimit": 2048000,
      "rowLimit": 10000
     },
     "inputWidgets": {},
     "nuid": "035a83c9-55f0-4747-8a6c-9b6384b893bd",
     "showTitle": false,
     "tableResultSettingsMap": {},
     "title": ""
    }
   },
   "outputs": [],
   "source": [
    "# This notebook runs the bronze ingest code"
   ]
  },
  {
   "cell_type": "code",
   "execution_count": 0,
   "metadata": {
    "application/vnd.databricks.v1+cell": {
     "cellMetadata": {
      "byteLimit": 2048000,
      "rowLimit": 10000
     },
     "inputWidgets": {},
     "nuid": "2f1fd9fc-e41b-4f86-971d-9c3299f69c31",
     "showTitle": false,
     "tableResultSettingsMap": {},
     "title": ""
    }
   },
   "outputs": [],
   "source": [
    "# Databricks notebook source\n",
    "import sys\n",
    "import os\n",
    "\n",
    "# Add repo src directory to path\n",
    "repo_dir = \"/Workspace/Users/arjunn.s@ldsinfotech.com/azure-databricks-retail-lakehouse/src\"\n",
    "sys.path.append(repo_dir)"
   ]
  },
  {
   "cell_type": "code",
   "execution_count": 0,
   "metadata": {
    "application/vnd.databricks.v1+cell": {
     "cellMetadata": {
      "byteLimit": 2048000,
      "rowLimit": 10000
     },
     "inputWidgets": {},
     "nuid": "582df482-c466-48fc-bc01-4ba4322c0a23",
     "showTitle": false,
     "tableResultSettingsMap": {},
     "title": ""
    }
   },
   "outputs": [],
   "source": [
    "from bronze.load_data import run_ingestion\n",
    "import json\n",
    "\n",
    "def main():\n",
    "    config_path = \"/Workspace/Users/arjunn.s@ldsinfotech.com/azure-databricks-retail-lakehouse/infra/bronze_config.json\"\n",
    "\n",
    "    # Ensure dbutils is available\n",
    "    try:\n",
    "        dbutils.fs\n",
    "    except NameError:\n",
    "        from pyspark.dbutils import DBUtils\n",
    "        dbutils = DBUtils(spark)\n",
    "\n",
    "    config_str = dbutils.fs.head(\n",
    "        f\"file:{config_path}\",\n",
    "        1024 * 1024\n",
    "    )\n",
    "    config = json.loads(config_str)\n",
    "\n",
    "    storage_account = config[\"storage_account_name\"]\n",
    "    container = config[\"container_name\"]\n",
    "    \n",
    "    print(f\"✅ Loaded config for {storage_account}/{container}\")\n",
    "\n",
    "    return storage_account, container\n",
    "\n",
    "if __name__ == \"__main__\":\n",
    "    storage_account, container = main()\n",
    "    account_key = dbutils.secrets.get(scope=\"initSecret\", key=\"storage-key\")\n",
    "    run_ingestion(storage_account, container, account_key)\n",
    "    print(\"✅ Bronze ingest complete\")"
   ]
  }
 ],
 "metadata": {
  "application/vnd.databricks.v1+notebook": {
   "computePreferences": null,
   "dashboards": [],
   "environmentMetadata": {
    "base_environment": "",
    "environment_version": "3"
   },
   "inputWidgetPreferences": null,
   "language": "python",
   "notebookMetadata": {
    "pythonIndentUnit": 4
   },
   "notebookName": "01_bronze_ingest",
   "widgets": {}
  },
  "language_info": {
   "name": "python"
  }
 },
 "nbformat": 4,
 "nbformat_minor": 0
}
